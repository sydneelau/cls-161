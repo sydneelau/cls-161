{
 "cells": [
  {
   "cell_type": "markdown",
   "id": "72f6db52",
   "metadata": {},
   "source": [
    "## 6-1"
   ]
  },
  {
   "cell_type": "code",
   "execution_count": 3,
   "id": "97933114",
   "metadata": {},
   "outputs": [],
   "source": [
    "friend = {'first_name': 'Rachel', 'last_name': 'Roh', 'age': '21', 'city': 'Chicago'}"
   ]
  },
  {
   "cell_type": "code",
   "execution_count": 4,
   "id": "8bd60fa0",
   "metadata": {},
   "outputs": [
    {
     "name": "stdout",
     "output_type": "stream",
     "text": [
      "Rachel\n"
     ]
    }
   ],
   "source": [
    "print(friend['first_name'])"
   ]
  },
  {
   "cell_type": "code",
   "execution_count": 5,
   "id": "61d609de",
   "metadata": {},
   "outputs": [
    {
     "name": "stdout",
     "output_type": "stream",
     "text": [
      "Roh\n"
     ]
    }
   ],
   "source": [
    "print(friend['last_name'])"
   ]
  },
  {
   "cell_type": "code",
   "execution_count": 6,
   "id": "caaf9f77",
   "metadata": {},
   "outputs": [
    {
     "name": "stdout",
     "output_type": "stream",
     "text": [
      "21\n"
     ]
    }
   ],
   "source": [
    "print(friend['age'])"
   ]
  },
  {
   "cell_type": "code",
   "execution_count": 7,
   "id": "f95e3c0d",
   "metadata": {},
   "outputs": [
    {
     "name": "stdout",
     "output_type": "stream",
     "text": [
      "Chicago\n"
     ]
    }
   ],
   "source": [
    "print(friend['city'])"
   ]
  },
  {
   "cell_type": "markdown",
   "id": "1a47318c",
   "metadata": {},
   "source": [
    "## 6-2"
   ]
  },
  {
   "cell_type": "code",
   "execution_count": 15,
   "id": "97f4f5ca",
   "metadata": {},
   "outputs": [],
   "source": [
    "favorite_numbers = {'Rachel': 12, 'Leia': 24, 'Alexis': 5, 'Kevin': 9, 'Evan': 21}"
   ]
  },
  {
   "cell_type": "code",
   "execution_count": 17,
   "id": "2f6acba5",
   "metadata": {},
   "outputs": [
    {
     "name": "stdout",
     "output_type": "stream",
     "text": [
      "12\n"
     ]
    }
   ],
   "source": [
    "print(favorite_numbers['Rachel'])"
   ]
  },
  {
   "cell_type": "code",
   "execution_count": 18,
   "id": "ff7b25a9",
   "metadata": {},
   "outputs": [
    {
     "name": "stdout",
     "output_type": "stream",
     "text": [
      "24\n"
     ]
    }
   ],
   "source": [
    "print(favorite_numbers['Leia'])"
   ]
  },
  {
   "cell_type": "code",
   "execution_count": 19,
   "id": "59850e00",
   "metadata": {},
   "outputs": [
    {
     "name": "stdout",
     "output_type": "stream",
     "text": [
      "5\n"
     ]
    }
   ],
   "source": [
    "print(favorite_numbers['Alexis'])"
   ]
  },
  {
   "cell_type": "code",
   "execution_count": 20,
   "id": "1e6c2a8b",
   "metadata": {},
   "outputs": [
    {
     "name": "stdout",
     "output_type": "stream",
     "text": [
      "9\n"
     ]
    }
   ],
   "source": [
    "print(favorite_numbers['Kevin'])"
   ]
  },
  {
   "cell_type": "code",
   "execution_count": 21,
   "id": "35cd5d50",
   "metadata": {},
   "outputs": [
    {
     "name": "stdout",
     "output_type": "stream",
     "text": [
      "21\n"
     ]
    }
   ],
   "source": [
    "print(favorite_numbers['Evan'])"
   ]
  },
  {
   "cell_type": "markdown",
   "id": "3bd1e3c1",
   "metadata": {},
   "source": [
    "## 6-3"
   ]
  },
  {
   "cell_type": "code",
   "execution_count": 22,
   "id": "df8ea2f4",
   "metadata": {},
   "outputs": [],
   "source": [
    "python_dictionary = {'variable': 'a container for storing data values', 'string': 'a collection of alphabets, words, or characters', 'dictionary': 'a mutable data structure that allow you to store key value pairs', 'loop': 'repeating something over and over until a particular condition is satisfied', 'list': 'an ordered and changeable collection of data objects'}"
   ]
  },
  {
   "cell_type": "code",
   "execution_count": 39,
   "id": "8e023880",
   "metadata": {},
   "outputs": [
    {
     "name": "stdout",
     "output_type": "stream",
     "text": [
      "A variable is container for storing data values.\n",
      "\n",
      "A string is a collection of alphabets, words, or characters.\n",
      "\n",
      "A dictionary is mutable data structure that allow you to store key value pairs.\n",
      "\n",
      "A loop is repeating something over and over until a particular condition is satisfied.\n",
      "\n",
      "A list is an ordered and changeable collection of data objects.\n"
     ]
    }
   ],
   "source": [
    "print(f\"A variable is {python_dictionary['variable']}.\")\n",
    "print(f\"\\nA string is {python_dictionary['string']}.\")\n",
    "print(f\"\\nA dictionary is {python_dictionary['dictionary']}.\")\n",
    "print(f\"\\nA loop is {python_dictionary['loop']}.\")\n",
    "print(f\"\\nA list is {python_dictionary['list']}.\")"
   ]
  },
  {
   "cell_type": "markdown",
   "id": "659939d8",
   "metadata": {},
   "source": [
    "## 6-4"
   ]
  },
  {
   "cell_type": "code",
   "execution_count": 49,
   "id": "4c38ac3d",
   "metadata": {},
   "outputs": [
    {
     "name": "stdout",
     "output_type": "stream",
     "text": [
      "\n",
      "A variable is a container for storing data values.\n",
      "\n",
      "A string is a collection of alphabets, words, or characters.\n",
      "\n",
      "A dictionary is a mutable data structure that allow you to store key value pairs.\n",
      "\n",
      "A loop is repeating something over and over until a particular condition is satisfied.\n",
      "\n",
      "A list is an ordered and changeable collection of data objects.\n"
     ]
    }
   ],
   "source": [
    "python_dictionary = {'variable': 'a container for storing data values', 'string': 'a collection of alphabets, words, or characters', 'dictionary': 'a mutable data structure that allow you to store key value pairs', 'loop': 'repeating something over and over until a particular condition is satisfied', 'list': 'an ordered and changeable collection of data objects'}\n",
    "for key, value in python_dictionary.items():\n",
    "    print(f\"\\nA {key} is {value}.\")"
   ]
  },
  {
   "cell_type": "code",
   "execution_count": 54,
   "id": "78e5dbb4",
   "metadata": {},
   "outputs": [],
   "source": [
    "python_dictionary = {'variable': 'a container for storing data values', 'string': 'a collection of alphabets, words, or characters', 'dictionary': 'a mutable data structure that allow you to store key value pairs', 'loop': 'repeating something over and over until a particular condition is satisfied', 'list': 'an ordered and changeable collection of data objects'}\n",
    "\n",
    "python_dictionary['integer'] = 'a whole number'\n",
    "python_dictionary['boolean'] = 'a true false statement'\n",
    "python_dictionary['repository'] = 'a location where files are stored'\n",
    "python_dictionary['index'] = 'a number is the location of a specific stored value'\n",
    "python_dictionary['script'] = 'a dedicated document for writing Python code'"
   ]
  },
  {
   "cell_type": "code",
   "execution_count": 55,
   "id": "16d3226e",
   "metadata": {},
   "outputs": [
    {
     "name": "stdout",
     "output_type": "stream",
     "text": [
      "{'variable': 'a container for storing data values', 'string': 'a collection of alphabets, words, or characters', 'dictionary': 'a mutable data structure that allow you to store key value pairs', 'loop': 'repeating something over and over until a particular condition is satisfied', 'list': 'an ordered and changeable collection of data objects', 'integer': 'a whole number', 'boolean': 'a true false statement', 'repository': 'a location where files are stored', 'index': 'a number is the location of a specific stored value', 'script': 'a dedicated document for writing Python code'}\n"
     ]
    }
   ],
   "source": [
    "print(python_dictionary)"
   ]
  },
  {
   "cell_type": "code",
   "execution_count": 56,
   "id": "3418158f",
   "metadata": {},
   "outputs": [
    {
     "name": "stdout",
     "output_type": "stream",
     "text": [
      "\n",
      "A variable is a container for storing data values.\n",
      "\n",
      "A string is a collection of alphabets, words, or characters.\n",
      "\n",
      "A dictionary is a mutable data structure that allow you to store key value pairs.\n",
      "\n",
      "A loop is repeating something over and over until a particular condition is satisfied.\n",
      "\n",
      "A list is an ordered and changeable collection of data objects.\n",
      "\n",
      "A integer is a whole number.\n",
      "\n",
      "A boolean is a true false statement.\n",
      "\n",
      "A repository is a location where files are stored.\n",
      "\n",
      "A index is a number is the location of a specific stored value.\n",
      "\n",
      "A script is a dedicated document for writing Python code.\n"
     ]
    }
   ],
   "source": [
    "for key, value in python_dictionary.items():\n",
    "    print(f\"\\nA {key} is {value}.\")"
   ]
  },
  {
   "cell_type": "markdown",
   "id": "028a02a2",
   "metadata": {},
   "source": [
    "## 6-5"
   ]
  },
  {
   "cell_type": "code",
   "execution_count": 64,
   "id": "b8a34c7b",
   "metadata": {},
   "outputs": [
    {
     "name": "stdout",
     "output_type": "stream",
     "text": [
      "The Nile runs through Egypt.\n",
      "The Amazon runs through Brazil.\n",
      "The Mississippi runs through America.\n"
     ]
    }
   ],
   "source": [
    "river_dictionary = {'Nile': 'Egypt', 'Amazon': 'Brazil', 'Mississippi': 'America'}\n",
    "for key, value in river_dictionary.items():\n",
    "    print(f\"The {key} runs through {value}.\")"
   ]
  },
  {
   "cell_type": "code",
   "execution_count": 67,
   "id": "427f8e67",
   "metadata": {},
   "outputs": [
    {
     "name": "stdout",
     "output_type": "stream",
     "text": [
      "Nile\n",
      "Amazon\n",
      "Mississippi\n"
     ]
    }
   ],
   "source": [
    "for river in river_dictionary:\n",
    "    print(f\"{river}\")"
   ]
  },
  {
   "cell_type": "code",
   "execution_count": 71,
   "id": "1cffb27c",
   "metadata": {},
   "outputs": [
    {
     "name": "stdout",
     "output_type": "stream",
     "text": [
      "Egypt\n",
      "Brazil\n",
      "America\n"
     ]
    }
   ],
   "source": [
    "for key,value in river_dictionary.items():\n",
    "    print(f\"{value}\")"
   ]
  },
  {
   "cell_type": "markdown",
   "id": "7325f496",
   "metadata": {},
   "source": [
    "## 6-7"
   ]
  },
  {
   "cell_type": "code",
   "execution_count": 72,
   "id": "a89ba9e6",
   "metadata": {},
   "outputs": [],
   "source": [
    "friend_2 = {'first_name': 'Leia', 'last_name': 'Levi', 'age': '20', 'city': 'Long Island'}\n",
    "friend_3 = friend = {'first_name': 'Alexis', 'last_name': 'Hedvat', 'age': '21', 'city': 'New York City'}"
   ]
  },
  {
   "cell_type": "code",
   "execution_count": 73,
   "id": "e73aff51",
   "metadata": {},
   "outputs": [
    {
     "name": "stdout",
     "output_type": "stream",
     "text": [
      "{'first_name': 'Alexis', 'last_name': 'Hedvat', 'age': '21', 'city': 'New York City'}\n",
      "{'first_name': 'Leia', 'last_name': 'Levi', 'age': '20', 'city': 'Long Island'}\n",
      "{'first_name': 'Alexis', 'last_name': 'Hedvat', 'age': '21', 'city': 'New York City'}\n"
     ]
    }
   ],
   "source": [
    "print(friend)\n",
    "print(friend_2)\n",
    "print(friend_3)"
   ]
  },
  {
   "cell_type": "code",
   "execution_count": 76,
   "id": "17fc342e",
   "metadata": {},
   "outputs": [
    {
     "name": "stdout",
     "output_type": "stream",
     "text": [
      "{'first_name': 'Alexis', 'last_name': 'Hedvat', 'age': '21', 'city': 'New York City'}\n",
      "{'first_name': 'Leia', 'last_name': 'Levi', 'age': '20', 'city': 'Long Island'}\n",
      "{'first_name': 'Alexis', 'last_name': 'Hedvat', 'age': '21', 'city': 'New York City'}\n"
     ]
    }
   ],
   "source": [
    "people = [friend, friend_2, friend_3]\n",
    "for friends in people:\n",
    "    print(friends)"
   ]
  },
  {
   "cell_type": "markdown",
   "id": "4b8f804b",
   "metadata": {},
   "source": [
    "## 6-8"
   ]
  },
  {
   "cell_type": "code",
   "execution_count": 77,
   "id": "be5b9d2c",
   "metadata": {},
   "outputs": [],
   "source": [
    "pet_1 = {'animal': 'cat', 'owner': 'Sam'}\n",
    "pet_2 = {'animal': 'dog', 'owner': 'Ben'}\n",
    "pet_3 = {'animal': 'fish', 'owner': 'Stef'}\n",
    "pets = (pet_1, pet_2, pet_3)"
   ]
  },
  {
   "cell_type": "code",
   "execution_count": 78,
   "id": "e96318f5",
   "metadata": {},
   "outputs": [
    {
     "name": "stdout",
     "output_type": "stream",
     "text": [
      "{'animal': 'cat', 'owner': 'Sam'}\n",
      "{'animal': 'dog', 'owner': 'Ben'}\n",
      "{'animal': 'fish', 'owner': 'Stef'}\n"
     ]
    }
   ],
   "source": [
    "for pet in pets:\n",
    "    print(pet)"
   ]
  },
  {
   "cell_type": "markdown",
   "id": "2865eb46",
   "metadata": {},
   "source": [
    "## 6-9"
   ]
  },
  {
   "cell_type": "code",
   "execution_count": 80,
   "id": "99084920",
   "metadata": {},
   "outputs": [
    {
     "name": "stdout",
     "output_type": "stream",
     "text": [
      "Carl likes Hawaii.\n",
      "Brian likes Paris.\n",
      "Emma likes Milan.\n"
     ]
    }
   ],
   "source": [
    "favorite_places = {'Carl': 'Hawaii', 'Brian': 'Paris', 'Emma': 'Milan'}\n",
    "for name, place in favorite_places.items():\n",
    "    print(f\"{name} likes {place}.\")"
   ]
  },
  {
   "cell_type": "markdown",
   "id": "0e9c5c74",
   "metadata": {},
   "source": [
    "## 6-11"
   ]
  },
  {
   "cell_type": "code",
   "execution_count": 81,
   "id": "89c6d55e",
   "metadata": {},
   "outputs": [],
   "source": [
    "cities = {'San Francisco': {'country': 'USA', 'population': 815201, 'fact': 'famous for its fog'}, 'Milan': {'country': 'Italy', 'population': '1.4 million', 'fact': 'home to one of the largest cathedrals'}, 'Los Angeles': {'country': 'USA', 'population': '3.8 million', 'fact': 'known as the entertainment capital of the world'}}"
   ]
  },
  {
   "cell_type": "code",
   "execution_count": null,
   "id": "a5112097",
   "metadata": {},
   "outputs": [],
   "source": [
    "for key, value in cities:\n",
    "    print({key}:)"
   ]
  }
 ],
 "metadata": {
  "kernelspec": {
   "display_name": "Python 3 (ipykernel)",
   "language": "python",
   "name": "python3"
  },
  "language_info": {
   "codemirror_mode": {
    "name": "ipython",
    "version": 3
   },
   "file_extension": ".py",
   "mimetype": "text/x-python",
   "name": "python",
   "nbconvert_exporter": "python",
   "pygments_lexer": "ipython3",
   "version": "3.11.4"
  }
 },
 "nbformat": 4,
 "nbformat_minor": 5
}
