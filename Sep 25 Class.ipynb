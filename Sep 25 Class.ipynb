{
 "cells": [
  {
   "cell_type": "markdown",
   "id": "af4afe89",
   "metadata": {},
   "source": [
    "# Conditionals"
   ]
  },
  {
   "cell_type": "code",
   "execution_count": 1,
   "id": "a736111d",
   "metadata": {},
   "outputs": [],
   "source": [
    "list_of_lists = [['a', 'b', 'c'], [1, 2, 3]]"
   ]
  },
  {
   "cell_type": "code",
   "execution_count": 2,
   "id": "a6e5d451",
   "metadata": {},
   "outputs": [
    {
     "data": {
      "text/plain": [
       "2"
      ]
     },
     "execution_count": 2,
     "metadata": {},
     "output_type": "execute_result"
    }
   ],
   "source": [
    "len(list_of_lists)"
   ]
  },
  {
   "cell_type": "code",
   "execution_count": 3,
   "id": "d374d197",
   "metadata": {},
   "outputs": [
    {
     "name": "stdout",
     "output_type": "stream",
     "text": [
      "['a', 'b', 'c']\n"
     ]
    }
   ],
   "source": [
    "print(list_of_lists[0])"
   ]
  },
  {
   "cell_type": "code",
   "execution_count": 8,
   "id": "a14fd304",
   "metadata": {},
   "outputs": [
    {
     "name": "stdout",
     "output_type": "stream",
     "text": [
      "2\n"
     ]
    }
   ],
   "source": [
    "print(list_of_lists[1][1])"
   ]
  },
  {
   "cell_type": "markdown",
   "id": "211f2c43",
   "metadata": {},
   "source": [
    "# Booleans"
   ]
  },
  {
   "cell_type": "code",
   "execution_count": 9,
   "id": "ce05e3a7",
   "metadata": {},
   "outputs": [],
   "source": [
    "a = True\n",
    "b = False"
   ]
  },
  {
   "cell_type": "code",
   "execution_count": 10,
   "id": "21336833",
   "metadata": {},
   "outputs": [
    {
     "name": "stdout",
     "output_type": "stream",
     "text": [
      "<class 'bool'>\n"
     ]
    }
   ],
   "source": [
    "print(type(a))"
   ]
  },
  {
   "cell_type": "code",
   "execution_count": 11,
   "id": "2128a448",
   "metadata": {},
   "outputs": [
    {
     "name": "stdout",
     "output_type": "stream",
     "text": [
      "False\n"
     ]
    }
   ],
   "source": [
    "print(7==10)"
   ]
  },
  {
   "cell_type": "code",
   "execution_count": 12,
   "id": "29c38455",
   "metadata": {},
   "outputs": [
    {
     "name": "stdout",
     "output_type": "stream",
     "text": [
      "True\n"
     ]
    }
   ],
   "source": [
    "print(7<10)"
   ]
  },
  {
   "cell_type": "code",
   "execution_count": 14,
   "id": "36f53c2e",
   "metadata": {},
   "outputs": [
    {
     "name": "stdout",
     "output_type": "stream",
     "text": [
      "True\n"
     ]
    }
   ],
   "source": [
    "print(7!=10)"
   ]
  },
  {
   "cell_type": "code",
   "execution_count": 15,
   "id": "ae732668",
   "metadata": {},
   "outputs": [],
   "source": [
    "c = 18"
   ]
  },
  {
   "cell_type": "code",
   "execution_count": 16,
   "id": "623633e3",
   "metadata": {},
   "outputs": [
    {
     "data": {
      "text/plain": [
       "True"
      ]
     },
     "execution_count": 16,
     "metadata": {},
     "output_type": "execute_result"
    }
   ],
   "source": [
    "c == 18"
   ]
  },
  {
   "cell_type": "code",
   "execution_count": 17,
   "id": "b17736da",
   "metadata": {},
   "outputs": [
    {
     "data": {
      "text/plain": [
       "False"
      ]
     },
     "execution_count": 17,
     "metadata": {},
     "output_type": "execute_result"
    }
   ],
   "source": [
    "'c' == 18"
   ]
  },
  {
   "cell_type": "code",
   "execution_count": 18,
   "id": "9d99113e",
   "metadata": {},
   "outputs": [
    {
     "name": "stdout",
     "output_type": "stream",
     "text": [
      "True\n"
     ]
    }
   ],
   "source": [
    "print('Gibbon' == 'Gibbon')"
   ]
  },
  {
   "cell_type": "code",
   "execution_count": 19,
   "id": "0aac3769",
   "metadata": {},
   "outputs": [
    {
     "name": "stdout",
     "output_type": "stream",
     "text": [
      "False\n"
     ]
    }
   ],
   "source": [
    "print('Gibbon' == 'gibbon')"
   ]
  },
  {
   "cell_type": "code",
   "execution_count": 20,
   "id": "0d72cb5f",
   "metadata": {},
   "outputs": [],
   "source": [
    "historians = ['gibbon', 'eusebius', 'lepore']"
   ]
  },
  {
   "cell_type": "code",
   "execution_count": 21,
   "id": "3ae8944c",
   "metadata": {},
   "outputs": [
    {
     "name": "stdout",
     "output_type": "stream",
     "text": [
      "True\n"
     ]
    }
   ],
   "source": [
    "print('gibbon' in historians)"
   ]
  },
  {
   "cell_type": "code",
   "execution_count": 22,
   "id": "d684bcf4",
   "metadata": {},
   "outputs": [
    {
     "name": "stdout",
     "output_type": "stream",
     "text": [
      "False\n"
     ]
    }
   ],
   "source": [
    "print('Gibbon' in historians)"
   ]
  },
  {
   "cell_type": "code",
   "execution_count": 56,
   "id": "8114f1f7",
   "metadata": {},
   "outputs": [
    {
     "data": {
      "text/plain": [
       "True"
      ]
     },
     "execution_count": 56,
     "metadata": {},
     "output_type": "execute_result"
    }
   ],
   "source": [
    "('Gibbon' in historians) or ('gibbon' in historians)"
   ]
  },
  {
   "cell_type": "code",
   "execution_count": 64,
   "id": "c39a6770",
   "metadata": {},
   "outputs": [
    {
     "ename": "SyntaxError",
     "evalue": "unterminated string literal (detected at line 3) (746174559.py, line 3)",
     "output_type": "error",
     "traceback": [
      "\u001b[0;36m  Cell \u001b[0;32mIn[64], line 3\u001b[0;36m\u001b[0m\n\u001b[0;31m    print('Gibbon is in list)\u001b[0m\n\u001b[0m          ^\u001b[0m\n\u001b[0;31mSyntaxError\u001b[0m\u001b[0;31m:\u001b[0m unterminated string literal (detected at line 3)\n"
     ]
    }
   ],
   "source": [
    "for historian in historians:\n",
    "    if historian == 'Gibbon' or historian == 'gibbon':\n",
    "        print('Gibbon is in list)\n",
    "    else:\n",
    "        print('Gibbon is not in list')"
   ]
  },
  {
   "cell_type": "markdown",
   "id": "c0e9c6db",
   "metadata": {},
   "source": [
    "# Conditionals"
   ]
  },
  {
   "cell_type": "code",
   "execution_count": 39,
   "id": "9cfffd9d",
   "metadata": {},
   "outputs": [],
   "source": [
    "age = 18"
   ]
  },
  {
   "cell_type": "code",
   "execution_count": 40,
   "id": "fb44d095",
   "metadata": {},
   "outputs": [
    {
     "name": "stdout",
     "output_type": "stream",
     "text": [
      "You are old enough to vote.\n"
     ]
    }
   ],
   "source": [
    "if age >= 18:\n",
    "    print('You are old enough to vote.')\n",
    "else:\n",
    "    print('You are not old enough to vote.')"
   ]
  },
  {
   "cell_type": "code",
   "execution_count": 41,
   "id": "a62966f9",
   "metadata": {},
   "outputs": [],
   "source": [
    "age = 12"
   ]
  },
  {
   "cell_type": "code",
   "execution_count": 42,
   "id": "6c4c521d",
   "metadata": {},
   "outputs": [
    {
     "name": "stdout",
     "output_type": "stream",
     "text": [
      "You are not old enough to vote.\n"
     ]
    }
   ],
   "source": [
    "if age >= 18:\n",
    "    print('You are old enough to vote.')\n",
    "else:\n",
    "    print('You are not old enough to vote.')"
   ]
  },
  {
   "cell_type": "code",
   "execution_count": 45,
   "id": "1350beab",
   "metadata": {},
   "outputs": [
    {
     "name": "stdout",
     "output_type": "stream",
     "text": [
      "Happy Birthday, welcome to democracy, its a little rough out there.\n"
     ]
    }
   ],
   "source": [
    "age = 18\n",
    "if age > 18:\n",
    "    print('You are old enough to vote.')\n",
    "elif age == 18:\n",
    "    print('Happy Birthday, welcome to democracy, its a little rough out there.')\n",
    "else:\n",
    "    print('You are not old enough to vote.')"
   ]
  },
  {
   "cell_type": "markdown",
   "id": "797423d5",
   "metadata": {},
   "source": [
    "## Boolean Operators"
   ]
  },
  {
   "cell_type": "code",
   "execution_count": 46,
   "id": "f65fe049",
   "metadata": {},
   "outputs": [
    {
     "data": {
      "text/plain": [
       "True"
      ]
     },
     "execution_count": 46,
     "metadata": {},
     "output_type": "execute_result"
    }
   ],
   "source": [
    "(7 != 10)"
   ]
  },
  {
   "cell_type": "code",
   "execution_count": 47,
   "id": "d653d552",
   "metadata": {},
   "outputs": [
    {
     "data": {
      "text/plain": [
       "False"
      ]
     },
     "execution_count": 47,
     "metadata": {},
     "output_type": "execute_result"
    }
   ],
   "source": [
    "(7 != 10) and (7 > 10)"
   ]
  },
  {
   "cell_type": "code",
   "execution_count": 48,
   "id": "69f3991b",
   "metadata": {},
   "outputs": [
    {
     "data": {
      "text/plain": [
       "True"
      ]
     },
     "execution_count": 48,
     "metadata": {},
     "output_type": "execute_result"
    }
   ],
   "source": [
    "(7 != 10) or (7 > 10)"
   ]
  },
  {
   "cell_type": "code",
   "execution_count": 49,
   "id": "3be0444f",
   "metadata": {},
   "outputs": [
    {
     "data": {
      "text/plain": [
       "True"
      ]
     },
     "execution_count": 49,
     "metadata": {},
     "output_type": "execute_result"
    }
   ],
   "source": [
    "(7 != 10) and (7 < 10)"
   ]
  },
  {
   "cell_type": "code",
   "execution_count": null,
   "id": "e9290e0d",
   "metadata": {},
   "outputs": [],
   "source": []
  }
 ],
 "metadata": {
  "kernelspec": {
   "display_name": "Python 3 (ipykernel)",
   "language": "python",
   "name": "python3"
  },
  "language_info": {
   "codemirror_mode": {
    "name": "ipython",
    "version": 3
   },
   "file_extension": ".py",
   "mimetype": "text/x-python",
   "name": "python",
   "nbconvert_exporter": "python",
   "pygments_lexer": "ipython3",
   "version": "3.11.4"
  }
 },
 "nbformat": 4,
 "nbformat_minor": 5
}
