{
 "cells": [
  {
   "cell_type": "markdown",
   "id": "fececfe7",
   "metadata": {},
   "source": [
    "# 4-1"
   ]
  },
  {
   "cell_type": "code",
   "execution_count": 70,
   "id": "0d774e32",
   "metadata": {},
   "outputs": [
    {
     "name": "stdout",
     "output_type": "stream",
     "text": [
      "pepperoni\n",
      "cheese\n",
      "hawaiian\n"
     ]
    }
   ],
   "source": [
    "pizzas = ['pepperoni', 'cheese', 'hawaiian']\n",
    "for pizza in pizzas:\n",
    "    print(pizza)"
   ]
  },
  {
   "cell_type": "code",
   "execution_count": 17,
   "id": "8a481ed1",
   "metadata": {},
   "outputs": [
    {
     "name": "stdout",
     "output_type": "stream",
     "text": [
      "I love to eat pepperoni pizza.\n",
      "I love to eat cheese pizza.\n",
      "I love to eat hawaiian pizza.\n",
      "\n",
      "I really love pizza!\n"
     ]
    }
   ],
   "source": [
    "for pizza in pizzas: \n",
    "    print('I love to eat ' + pizza + ' pizza.')\n",
    "print('\\nI really love pizza!')"
   ]
  },
  {
   "cell_type": "markdown",
   "id": "0ff8853a",
   "metadata": {},
   "source": [
    "# 4-2"
   ]
  },
  {
   "cell_type": "code",
   "execution_count": 18,
   "id": "dd2d5693",
   "metadata": {},
   "outputs": [
    {
     "name": "stdout",
     "output_type": "stream",
     "text": [
      "cat\n",
      "dog\n",
      "bear\n"
     ]
    }
   ],
   "source": [
    "animals = ['cat', 'dog', 'bear']\n",
    "for animal in animals:\n",
    "    print(animal)"
   ]
  },
  {
   "cell_type": "code",
   "execution_count": 21,
   "id": "b6f62d70",
   "metadata": {},
   "outputs": [
    {
     "name": "stdout",
     "output_type": "stream",
     "text": [
      "A cat would make a great pet!\n",
      "A dog would make a great pet!\n",
      "A bear would make a great pet!\n",
      "\n",
      " All of these animals were make great pets.\n"
     ]
    }
   ],
   "source": [
    "for animal in animals:\n",
    "    print('A ' + animal + \" would make a great pet!\")\n",
    "print('\\n All of these animals were make great pets.')"
   ]
  },
  {
   "cell_type": "markdown",
   "id": "7a745230",
   "metadata": {},
   "source": [
    "# 4-3"
   ]
  },
  {
   "cell_type": "code",
   "execution_count": 22,
   "id": "fd338914",
   "metadata": {},
   "outputs": [
    {
     "name": "stdout",
     "output_type": "stream",
     "text": [
      "[1, 2, 3, 4, 5, 6, 7, 8, 9, 10, 11, 12, 13, 14, 15, 16, 17, 18, 19, 20]\n"
     ]
    }
   ],
   "source": [
    "numbers = list(range(1,21))\n",
    "print(numbers)"
   ]
  },
  {
   "cell_type": "markdown",
   "id": "a7b5fe57",
   "metadata": {},
   "source": [
    "# 4-6"
   ]
  },
  {
   "cell_type": "code",
   "execution_count": 23,
   "id": "30303455",
   "metadata": {},
   "outputs": [
    {
     "name": "stdout",
     "output_type": "stream",
     "text": [
      "[1, 3, 5, 7, 9, 11, 13, 15, 17, 19]\n"
     ]
    }
   ],
   "source": [
    "odd_numbers = list(range(1,21,2))\n",
    "print(odd_numbers)"
   ]
  },
  {
   "cell_type": "markdown",
   "id": "3d55dc76",
   "metadata": {},
   "source": [
    "# 4-10"
   ]
  },
  {
   "cell_type": "code",
   "execution_count": 24,
   "id": "4fe53460",
   "metadata": {},
   "outputs": [
    {
     "name": "stdout",
     "output_type": "stream",
     "text": [
      "['cat', 'dog', 'bear', 'rat', 'fish']\n"
     ]
    }
   ],
   "source": [
    "animals = ['cat', 'dog', 'bear', 'rat', 'fish']\n",
    "print(animals)"
   ]
  },
  {
   "cell_type": "code",
   "execution_count": 34,
   "id": "30b27645",
   "metadata": {},
   "outputs": [
    {
     "name": "stdout",
     "output_type": "stream",
     "text": [
      "The first three items in the list are:\n",
      "['cat', 'dog', 'bear']\n"
     ]
    }
   ],
   "source": [
    "print('The first three items in the list are:')\n",
    "print(animals[:3])"
   ]
  },
  {
   "cell_type": "code",
   "execution_count": 36,
   "id": "40859037",
   "metadata": {},
   "outputs": [
    {
     "name": "stdout",
     "output_type": "stream",
     "text": [
      "Three items from the middle of the list are:\n",
      "['dog', 'bear', 'rat']\n"
     ]
    }
   ],
   "source": [
    "print('Three items from the middle of the list are:')\n",
    "print(animals[1:4])"
   ]
  },
  {
   "cell_type": "code",
   "execution_count": 39,
   "id": "a3758767",
   "metadata": {},
   "outputs": [
    {
     "name": "stdout",
     "output_type": "stream",
     "text": [
      "The last three items in the list are:\n",
      "['bear', 'rat', 'fish']\n"
     ]
    }
   ],
   "source": [
    "print('The last three items in the list are:')\n",
    "print(animals[-3:])"
   ]
  },
  {
   "cell_type": "markdown",
   "id": "6c7ea53d",
   "metadata": {},
   "source": [
    "# 4-11"
   ]
  },
  {
   "cell_type": "code",
   "execution_count": 71,
   "id": "eaa26123",
   "metadata": {},
   "outputs": [
    {
     "name": "stdout",
     "output_type": "stream",
     "text": [
      "['pepperoni', 'cheese', 'hawaiian']\n"
     ]
    }
   ],
   "source": [
    "print(pizzas)"
   ]
  },
  {
   "cell_type": "code",
   "execution_count": 72,
   "id": "1ce325d9",
   "metadata": {},
   "outputs": [
    {
     "name": "stdout",
     "output_type": "stream",
     "text": [
      "['pepperoni', 'cheese', 'hawaiian']\n"
     ]
    }
   ],
   "source": [
    "friend_pizzas = pizzas[:]\n",
    "print(friend_pizzas)"
   ]
  },
  {
   "cell_type": "code",
   "execution_count": 73,
   "id": "aca07009",
   "metadata": {},
   "outputs": [
    {
     "name": "stdout",
     "output_type": "stream",
     "text": [
      "['pepperoni', 'cheese', 'hawaiian', 'supreme']\n",
      "['pepperoni', 'cheese', 'hawaiian', 'olive']\n"
     ]
    }
   ],
   "source": [
    "pizzas.append('supreme')\n",
    "print(pizzas)\n",
    "friend_pizzas.append('olive')\n",
    "print(friend_pizzas)"
   ]
  },
  {
   "cell_type": "code",
   "execution_count": 74,
   "id": "002c045b",
   "metadata": {},
   "outputs": [
    {
     "name": "stdout",
     "output_type": "stream",
     "text": [
      "My favorite pizzas are:\n",
      "pepperoni\n",
      "cheese\n",
      "hawaiian\n",
      "supreme\n",
      "\n",
      "My friends favorite pizzas are:\n",
      "pepperoni\n",
      "cheese\n",
      "hawaiian\n",
      "olive\n"
     ]
    }
   ],
   "source": [
    "print('My favorite pizzas are:')\n",
    "for pizza in pizzas:\n",
    "    print(pizza)\n",
    "    \n",
    "print('\\nMy friends favorite pizzas are:')\n",
    "for friend_pizza in friend_pizzas:\n",
    "    print(friend_pizza)"
   ]
  },
  {
   "cell_type": "code",
   "execution_count": null,
   "id": "5f6063c9",
   "metadata": {},
   "outputs": [],
   "source": []
  }
 ],
 "metadata": {
  "kernelspec": {
   "display_name": "Python 3 (ipykernel)",
   "language": "python",
   "name": "python3"
  },
  "language_info": {
   "codemirror_mode": {
    "name": "ipython",
    "version": 3
   },
   "file_extension": ".py",
   "mimetype": "text/x-python",
   "name": "python",
   "nbconvert_exporter": "python",
   "pygments_lexer": "ipython3",
   "version": "3.11.4"
  }
 },
 "nbformat": 4,
 "nbformat_minor": 5
}
