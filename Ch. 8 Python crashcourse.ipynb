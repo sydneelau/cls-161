{
 "cells": [
  {
   "cell_type": "markdown",
   "id": "5dd828ea",
   "metadata": {},
   "source": [
    "## 8-1"
   ]
  },
  {
   "cell_type": "code",
   "execution_count": 6,
   "id": "15db1b46",
   "metadata": {},
   "outputs": [],
   "source": [
    "def display_message():\n",
    "    \"\"\"Tell everyone what you are learning about\"\"\"\n",
    "    print(\"In this lesson, I am learning about functions\")"
   ]
  },
  {
   "cell_type": "code",
   "execution_count": 7,
   "id": "d707e4b5",
   "metadata": {},
   "outputs": [
    {
     "name": "stdout",
     "output_type": "stream",
     "text": [
      "In this lesson, I am learning about functions\n"
     ]
    }
   ],
   "source": [
    "display_message()"
   ]
  },
  {
   "cell_type": "markdown",
   "id": "40a04bd8",
   "metadata": {},
   "source": [
    "## 8-2"
   ]
  },
  {
   "cell_type": "code",
   "execution_count": null,
   "id": "7238f8dc",
   "metadata": {},
   "outputs": [],
   "source": [
    "def favorite_book(book_title):\n",
    "    \"\"\"Display favorite book\"\"\"\n",
    "    print(f\"One of my favorite books is {book_title.title()}.\")"
   ]
  },
  {
   "cell_type": "code",
   "execution_count": 15,
   "id": "8ae9961b",
   "metadata": {},
   "outputs": [
    {
     "name": "stdout",
     "output_type": "stream",
     "text": [
      "One of my favorite books is Harry Potter.\n"
     ]
    }
   ],
   "source": [
    "favorite_book('harry potter')"
   ]
  },
  {
   "cell_type": "markdown",
   "id": "691639ad",
   "metadata": {},
   "source": [
    "## 8-3"
   ]
  },
  {
   "cell_type": "code",
   "execution_count": 26,
   "id": "5f0a3234",
   "metadata": {},
   "outputs": [],
   "source": [
    "def make_shirt(size, message):\n",
    "    \"\"\"Display size and messsage to be printed on shirt\"\"\"\n",
    "    print(f\"I want a {size} shirt that says '{message}'.\")"
   ]
  },
  {
   "cell_type": "code",
   "execution_count": 27,
   "id": "2e7ddd79",
   "metadata": {},
   "outputs": [
    {
     "name": "stdout",
     "output_type": "stream",
     "text": [
      "I want a medium shirt that says 'I love cats'.\n"
     ]
    }
   ],
   "source": [
    "make_shirt('medium', 'I love cats')"
   ]
  },
  {
   "cell_type": "code",
   "execution_count": 28,
   "id": "cd62e9c0",
   "metadata": {},
   "outputs": [
    {
     "name": "stdout",
     "output_type": "stream",
     "text": [
      "I want a medium shirt that says 'I love cats'.\n"
     ]
    }
   ],
   "source": [
    "make_shirt(message='I love cats', size='medium')"
   ]
  },
  {
   "cell_type": "markdown",
   "id": "aaec404f",
   "metadata": {},
   "source": [
    "## 8-5"
   ]
  },
  {
   "cell_type": "code",
   "execution_count": 35,
   "id": "508bde0a",
   "metadata": {},
   "outputs": [],
   "source": [
    "def describe_city(city, country='France'):\n",
    "    \"\"\"Message that names a city and its country\"\"\"\n",
    "    print(f\"{city.title()} is a city in {country.title()}.\")"
   ]
  },
  {
   "cell_type": "code",
   "execution_count": 36,
   "id": "94e960b7",
   "metadata": {},
   "outputs": [
    {
     "name": "stdout",
     "output_type": "stream",
     "text": [
      "Nice is a city in France.\n",
      "Paris is a city in France.\n",
      "Rome is a city in Italy.\n"
     ]
    }
   ],
   "source": [
    "describe_city('Nice')\n",
    "describe_city('paris')\n",
    "describe_city(city='rome', country='italy')"
   ]
  },
  {
   "cell_type": "markdown",
   "id": "b9689f6d",
   "metadata": {},
   "source": [
    "## 8-6"
   ]
  },
  {
   "cell_type": "code",
   "execution_count": 48,
   "id": "1422680b",
   "metadata": {},
   "outputs": [
    {
     "name": "stdout",
     "output_type": "stream",
     "text": [
      "Beijing, China\n"
     ]
    }
   ],
   "source": [
    "def formatted_location(city, country):\n",
    "    \"\"\"Return a city and its country\"\"\"\n",
    "    location = f\"{city}, {country}\"\n",
    "    return location.title()\n",
    "city_country = formatted_location('beijing', 'china')\n",
    "print(city_country)"
   ]
  },
  {
   "cell_type": "code",
   "execution_count": 49,
   "id": "ba3b9f34",
   "metadata": {},
   "outputs": [
    {
     "name": "stdout",
     "output_type": "stream",
     "text": [
      "Taipei, Taiwan\n"
     ]
    }
   ],
   "source": [
    "city_country = formatted_location('Taipei', 'taiwan')\n",
    "print(city_country)"
   ]
  },
  {
   "cell_type": "code",
   "execution_count": 50,
   "id": "7f8d3a10",
   "metadata": {},
   "outputs": [
    {
     "name": "stdout",
     "output_type": "stream",
     "text": [
      "Seoul, South Korea\n"
     ]
    }
   ],
   "source": [
    "city_country = formatted_location('seoul', 'south korea')\n",
    "print(city_country)"
   ]
  },
  {
   "cell_type": "markdown",
   "id": "849efde1",
   "metadata": {},
   "source": [
    "## 8-7"
   ]
  },
  {
   "cell_type": "code",
   "execution_count": 54,
   "id": "e3c88bed",
   "metadata": {},
   "outputs": [
    {
     "name": "stdout",
     "output_type": "stream",
     "text": [
      "{'artist': 'Dominic Fike', 'album': 'What Could Possible Go Wrong'}\n"
     ]
    }
   ],
   "source": [
    "def make_album(artist_name, album_name):\n",
    "    \"\"\"Return a dictionary containing the artist name and album name\"\"\"\n",
    "    album = {'artist': artist_name, 'album': album_name}\n",
    "    return album\n",
    "album_info = make_album('Dominic Fike', 'What Could Possible Go Wrong')\n",
    "print(album_info)"
   ]
  },
  {
   "cell_type": "code",
   "execution_count": 55,
   "id": "1c1df751",
   "metadata": {},
   "outputs": [
    {
     "name": "stdout",
     "output_type": "stream",
     "text": [
      "{'artist': 'Glass Animals', 'album': 'Dreamland'}\n"
     ]
    }
   ],
   "source": [
    "album_info = make_album('Glass Animals', 'Dreamland')\n",
    "print(album_info)"
   ]
  },
  {
   "cell_type": "code",
   "execution_count": 56,
   "id": "9976a9a0",
   "metadata": {},
   "outputs": [
    {
     "name": "stdout",
     "output_type": "stream",
     "text": [
      "{'artist': 'Frank Ocean', 'album': 'Blonde'}\n"
     ]
    }
   ],
   "source": [
    "album_info = make_album('Frank Ocean', 'Blonde')\n",
    "print(album_info)"
   ]
  },
  {
   "cell_type": "code",
   "execution_count": 57,
   "id": "2daedd03",
   "metadata": {},
   "outputs": [
    {
     "name": "stdout",
     "output_type": "stream",
     "text": [
      "{'artist': 'Dominic Fike', 'album': 'What Could Possible Go Wrong', 'song_number': 12}\n"
     ]
    }
   ],
   "source": [
    "def make_album(artist_name, album_name, song_number = None):\n",
    "    \"\"\"Return a dictionary containing the artist name and album name\"\"\"\n",
    "    album = {'artist': artist_name, 'album': album_name}\n",
    "    if song_number:\n",
    "        album['song_number'] = song_number\n",
    "    return album\n",
    "album_info = make_album('Dominic Fike', 'What Could Possible Go Wrong', song_number=12)\n",
    "print(album_info)"
   ]
  },
  {
   "cell_type": "code",
   "execution_count": null,
   "id": "c3762e63",
   "metadata": {},
   "outputs": [],
   "source": []
  }
 ],
 "metadata": {
  "kernelspec": {
   "display_name": "Python 3 (ipykernel)",
   "language": "python",
   "name": "python3"
  },
  "language_info": {
   "codemirror_mode": {
    "name": "ipython",
    "version": 3
   },
   "file_extension": ".py",
   "mimetype": "text/x-python",
   "name": "python",
   "nbconvert_exporter": "python",
   "pygments_lexer": "ipython3",
   "version": "3.11.4"
  }
 },
 "nbformat": 4,
 "nbformat_minor": 5
}
