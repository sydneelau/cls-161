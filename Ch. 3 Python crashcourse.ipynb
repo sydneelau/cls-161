{
 "cells": [
  {
   "cell_type": "markdown",
   "id": "c3c5fe56",
   "metadata": {},
   "source": [
    "# 3-1"
   ]
  },
  {
   "cell_type": "code",
   "execution_count": 2,
   "id": "23022202",
   "metadata": {},
   "outputs": [],
   "source": [
    "names = ['Leia', 'Alexis', 'Rachel', 'Millie']"
   ]
  },
  {
   "cell_type": "code",
   "execution_count": 3,
   "id": "4b285c82",
   "metadata": {},
   "outputs": [
    {
     "name": "stdout",
     "output_type": "stream",
     "text": [
      "Leia\n"
     ]
    }
   ],
   "source": [
    "print(names[0])"
   ]
  },
  {
   "cell_type": "code",
   "execution_count": 4,
   "id": "821a24c9",
   "metadata": {},
   "outputs": [
    {
     "name": "stdout",
     "output_type": "stream",
     "text": [
      "Alexis\n"
     ]
    }
   ],
   "source": [
    "print(names[1])"
   ]
  },
  {
   "cell_type": "code",
   "execution_count": 5,
   "id": "ba2992b0",
   "metadata": {},
   "outputs": [
    {
     "name": "stdout",
     "output_type": "stream",
     "text": [
      "Rachel\n"
     ]
    }
   ],
   "source": [
    "print(names[2])"
   ]
  },
  {
   "cell_type": "code",
   "execution_count": 6,
   "id": "2946b6a0",
   "metadata": {},
   "outputs": [
    {
     "name": "stdout",
     "output_type": "stream",
     "text": [
      "Millie\n"
     ]
    }
   ],
   "source": [
    "print(names[3])"
   ]
  },
  {
   "cell_type": "markdown",
   "id": "a658a6bc",
   "metadata": {},
   "source": [
    "# 3-2"
   ]
  },
  {
   "cell_type": "code",
   "execution_count": 9,
   "id": "b4750e22",
   "metadata": {},
   "outputs": [
    {
     "name": "stdout",
     "output_type": "stream",
     "text": [
      "Leia is one of my friends.\n"
     ]
    }
   ],
   "source": [
    "message = (names[0] + \" \" + \"is one of my friends\" + \".\")\n",
    "print(message)"
   ]
  },
  {
   "cell_type": "code",
   "execution_count": 10,
   "id": "654ca45e",
   "metadata": {},
   "outputs": [
    {
     "name": "stdout",
     "output_type": "stream",
     "text": [
      "Alexis is one of my friends.\n"
     ]
    }
   ],
   "source": [
    "message = (names[1] + \" \" + \"is one of my friends\" + \".\")\n",
    "print(message)"
   ]
  },
  {
   "cell_type": "code",
   "execution_count": 11,
   "id": "29e83e59",
   "metadata": {},
   "outputs": [
    {
     "name": "stdout",
     "output_type": "stream",
     "text": [
      "Rachel is one of my friends.\n"
     ]
    }
   ],
   "source": [
    "message = (names[2] + \" \" + \"is one of my friends\" + \".\")\n",
    "print(message)"
   ]
  },
  {
   "cell_type": "code",
   "execution_count": 12,
   "id": "cfc0d083",
   "metadata": {},
   "outputs": [
    {
     "name": "stdout",
     "output_type": "stream",
     "text": [
      "Millie is one of my friends.\n"
     ]
    }
   ],
   "source": [
    "message = (names[3] + \" \" + \"is one of my friends\" + \".\")\n",
    "print(message)"
   ]
  },
  {
   "cell_type": "markdown",
   "id": "b96273ad",
   "metadata": {},
   "source": [
    "# 3-3"
   ]
  },
  {
   "cell_type": "code",
   "execution_count": 14,
   "id": "21b964bd",
   "metadata": {},
   "outputs": [],
   "source": [
    "vehicles = ['car', \"bicycle\", \"horse\"]"
   ]
  },
  {
   "cell_type": "code",
   "execution_count": 18,
   "id": "a85c0e95",
   "metadata": {},
   "outputs": [
    {
     "name": "stdout",
     "output_type": "stream",
     "text": [
      "I would like to buy a car.\n"
     ]
    }
   ],
   "source": [
    "message = (\"I would like to buy a\" + \" \" + vehicles[0] + \".\")\n",
    "print(message)"
   ]
  },
  {
   "cell_type": "code",
   "execution_count": 22,
   "id": "b7cb92ed",
   "metadata": {},
   "outputs": [
    {
     "name": "stdout",
     "output_type": "stream",
     "text": [
      "I grew up riding a pink bicycle.\n"
     ]
    }
   ],
   "source": [
    "message = (\"I grew up riding a pink\" + \" \" + vehicles[1] + \".\")\n",
    "print(message)"
   ]
  },
  {
   "cell_type": "code",
   "execution_count": 24,
   "id": "b6ca7f82",
   "metadata": {},
   "outputs": [
    {
     "name": "stdout",
     "output_type": "stream",
     "text": [
      "I once rode a horse named Fred.\n"
     ]
    }
   ],
   "source": [
    "message = (\"I once rode a\" + \" \" + vehicles[2] + \" \" + \"named Fred\" + \".\")\n",
    "print(message)"
   ]
  },
  {
   "cell_type": "markdown",
   "id": "367e95ae",
   "metadata": {},
   "source": [
    "# 3-4"
   ]
  },
  {
   "cell_type": "code",
   "execution_count": 50,
   "id": "b7bb7657",
   "metadata": {},
   "outputs": [
    {
     "name": "stdout",
     "output_type": "stream",
     "text": [
      "['Mom', 'Ross Lynch', 'Taco my cat']\n"
     ]
    }
   ],
   "source": [
    "guests = ['Mom', 'Ross Lynch', 'Taco my cat']\n",
    "print(guests)"
   ]
  },
  {
   "cell_type": "code",
   "execution_count": 28,
   "id": "211bbe6e",
   "metadata": {},
   "outputs": [
    {
     "name": "stdout",
     "output_type": "stream",
     "text": [
      "Dear Mom, you are hereby invited to dinner.\n"
     ]
    }
   ],
   "source": [
    "message = ('Dear' + ' ' + guests[0] + ',' + ' ' + 'you are hereby invited to dinner' + '.')\n",
    "print(message)"
   ]
  },
  {
   "cell_type": "code",
   "execution_count": 29,
   "id": "74e9d4f0",
   "metadata": {},
   "outputs": [
    {
     "name": "stdout",
     "output_type": "stream",
     "text": [
      "Dear Ross Lynch, you are hereby invited to dinner.\n"
     ]
    }
   ],
   "source": [
    "message = ('Dear' + ' ' + guests[1] + ',' + ' ' + 'you are hereby invited to dinner' + '.')\n",
    "print(message)"
   ]
  },
  {
   "cell_type": "code",
   "execution_count": 30,
   "id": "e80a1c4c",
   "metadata": {},
   "outputs": [
    {
     "name": "stdout",
     "output_type": "stream",
     "text": [
      "Dear Taco my cat, you are hereby invited to dinner.\n"
     ]
    }
   ],
   "source": [
    "message = ('Dear' + ' ' + guests[2] + ',' + ' ' + 'you are hereby invited to dinner' + '.')\n",
    "print(message)"
   ]
  },
  {
   "cell_type": "markdown",
   "id": "ad3dfd2a",
   "metadata": {},
   "source": [
    "# 3-5"
   ]
  },
  {
   "cell_type": "code",
   "execution_count": 35,
   "id": "b2593754",
   "metadata": {},
   "outputs": [
    {
     "name": "stdout",
     "output_type": "stream",
     "text": [
      "Unfortunately, Ross Lynch cannot make it to dinner tonight.\n"
     ]
    }
   ],
   "source": [
    "print('Unfortunately' + ',' + ' ' + guests[1] + ' ' + 'cannot make it to dinner tonight' + \".\")"
   ]
  },
  {
   "cell_type": "code",
   "execution_count": 94,
   "id": "1c5becd6",
   "metadata": {},
   "outputs": [
    {
     "name": "stdout",
     "output_type": "stream",
     "text": [
      "['Mom', 'Taco my cat']\n"
     ]
    }
   ],
   "source": [
    "guests = ['Mom', 'Ross Lynch', 'Taco my cat']\n",
    "del guests[1]\n",
    "print(guests)"
   ]
  },
  {
   "cell_type": "code",
   "execution_count": 95,
   "id": "45361c59",
   "metadata": {},
   "outputs": [
    {
     "name": "stdout",
     "output_type": "stream",
     "text": [
      "['Mom', 'Hannah Montana', 'Taco my cat']\n"
     ]
    }
   ],
   "source": [
    "guests.insert(1, 'Hannah Montana')\n",
    "print(guests)"
   ]
  },
  {
   "cell_type": "code",
   "execution_count": 75,
   "id": "8bb5b6eb",
   "metadata": {},
   "outputs": [
    {
     "name": "stdout",
     "output_type": "stream",
     "text": [
      "Dear Mom, you are hereby invited to dinner.\n"
     ]
    }
   ],
   "source": [
    "message = ('Dear' + ' ' + guests[0] + ',' + ' ' + 'you are hereby invited to dinner' + '.')\n",
    "print(message)"
   ]
  },
  {
   "cell_type": "code",
   "execution_count": 76,
   "id": "2b609300",
   "metadata": {},
   "outputs": [
    {
     "name": "stdout",
     "output_type": "stream",
     "text": [
      "Dear Hannah Montana, you are hereby invited to dinner.\n"
     ]
    }
   ],
   "source": [
    "message = ('Dear' + ' ' + guests[1] + ',' + ' ' + 'you are hereby invited to dinner' + '.')\n",
    "print(message)"
   ]
  },
  {
   "cell_type": "code",
   "execution_count": 77,
   "id": "7aacfb88",
   "metadata": {},
   "outputs": [
    {
     "name": "stdout",
     "output_type": "stream",
     "text": [
      "Dear Taco my cat, you are hereby invited to dinner.\n"
     ]
    }
   ],
   "source": [
    "message = ('Dear' + ' ' + guests[2] + ',' + ' ' + 'you are hereby invited to dinner' + '.')\n",
    "print(message)"
   ]
  },
  {
   "cell_type": "markdown",
   "id": "23d63405",
   "metadata": {},
   "source": [
    "# 3-6"
   ]
  },
  {
   "cell_type": "code",
   "execution_count": 89,
   "id": "6bd5eae2",
   "metadata": {},
   "outputs": [
    {
     "name": "stdout",
     "output_type": "stream",
     "text": [
      "Dear guests, I have just found a bigger table for dinner!\n"
     ]
    }
   ],
   "source": [
    "message = 'Dear guests, I have just found a bigger table for dinner!'\n",
    "print(message)"
   ]
  },
  {
   "cell_type": "code",
   "execution_count": 96,
   "id": "534b555a",
   "metadata": {},
   "outputs": [
    {
     "name": "stdout",
     "output_type": "stream",
     "text": [
      "['Peppa Pig', 'Mom', 'Hannah Montana', 'Taco my cat']\n"
     ]
    }
   ],
   "source": [
    "guests.insert(0, 'Peppa Pig')\n",
    "print(guests)"
   ]
  },
  {
   "cell_type": "code",
   "execution_count": 97,
   "id": "a7638e8a",
   "metadata": {},
   "outputs": [
    {
     "name": "stdout",
     "output_type": "stream",
     "text": [
      "['Peppa Pig', 'Mom', 'Dad', 'Hannah Montana', 'Taco my cat']\n"
     ]
    }
   ],
   "source": [
    "guests.insert(2, 'Dad')\n",
    "print(guests)"
   ]
  },
  {
   "cell_type": "code",
   "execution_count": 98,
   "id": "7fa84626",
   "metadata": {},
   "outputs": [
    {
     "name": "stdout",
     "output_type": "stream",
     "text": [
      "['Peppa Pig', 'Mom', 'Dad', 'Hannah Montana', 'Taco my cat', 'Bean my other cat']\n"
     ]
    }
   ],
   "source": [
    "guests.insert(5, 'Bean my other cat')\n",
    "print(guests)"
   ]
  },
  {
   "cell_type": "code",
   "execution_count": 99,
   "id": "07066a1e",
   "metadata": {},
   "outputs": [
    {
     "name": "stdout",
     "output_type": "stream",
     "text": [
      "Dear Peppa Pig, you are hereby invited to dinner.\n"
     ]
    }
   ],
   "source": [
    "message = ('Dear' + ' ' + guests[0] + ',' + ' ' + 'you are hereby invited to dinner' + '.')\n",
    "print(message)"
   ]
  },
  {
   "cell_type": "code",
   "execution_count": 100,
   "id": "7aa210fc",
   "metadata": {},
   "outputs": [
    {
     "name": "stdout",
     "output_type": "stream",
     "text": [
      "Dear Mom, you are hereby invited to dinner.\n"
     ]
    }
   ],
   "source": [
    "message = ('Dear' + ' ' + guests[1] + ',' + ' ' + 'you are hereby invited to dinner' + '.')\n",
    "print(message)"
   ]
  },
  {
   "cell_type": "code",
   "execution_count": 101,
   "id": "17eec2ab",
   "metadata": {},
   "outputs": [
    {
     "name": "stdout",
     "output_type": "stream",
     "text": [
      "Dear Dad, you are hereby invited to dinner.\n"
     ]
    }
   ],
   "source": [
    "message = ('Dear' + ' ' + guests[2] + ',' + ' ' + 'you are hereby invited to dinner' + '.')\n",
    "print(message)"
   ]
  },
  {
   "cell_type": "code",
   "execution_count": 102,
   "id": "ab6863e4",
   "metadata": {},
   "outputs": [
    {
     "name": "stdout",
     "output_type": "stream",
     "text": [
      "Dear Hannah Montana, you are hereby invited to dinner.\n"
     ]
    }
   ],
   "source": [
    "message = ('Dear' + ' ' + guests[3] + ',' + ' ' + 'you are hereby invited to dinner' + '.')\n",
    "print(message)"
   ]
  },
  {
   "cell_type": "code",
   "execution_count": 103,
   "id": "0fce1014",
   "metadata": {},
   "outputs": [
    {
     "name": "stdout",
     "output_type": "stream",
     "text": [
      "Dear Taco my cat, you are hereby invited to dinner.\n"
     ]
    }
   ],
   "source": [
    "message = ('Dear' + ' ' + guests[4] + ',' + ' ' + 'you are hereby invited to dinner' + '.')\n",
    "print(message)"
   ]
  },
  {
   "cell_type": "code",
   "execution_count": 104,
   "id": "e213593f",
   "metadata": {},
   "outputs": [
    {
     "name": "stdout",
     "output_type": "stream",
     "text": [
      "Dear Bean my other cat, you are hereby invited to dinner.\n"
     ]
    }
   ],
   "source": [
    "message = ('Dear' + ' ' + guests[5] + ',' + ' ' + 'you are hereby invited to dinner' + '.')\n",
    "print(message)"
   ]
  },
  {
   "cell_type": "code",
   "execution_count": 105,
   "id": "6aed1a94",
   "metadata": {},
   "outputs": [
    {
     "name": "stdout",
     "output_type": "stream",
     "text": [
      "My dinner table will not arrive until tomorrow, so I can only invite two people to dinner.\n"
     ]
    }
   ],
   "source": [
    "print('My dinner table will not arrive until tomorrow, so I can only invite two people to dinner.')"
   ]
  },
  {
   "cell_type": "markdown",
   "id": "171cac35",
   "metadata": {},
   "source": [
    "# 3-7"
   ]
  },
  {
   "cell_type": "code",
   "execution_count": 106,
   "id": "981db7ab",
   "metadata": {},
   "outputs": [
    {
     "name": "stdout",
     "output_type": "stream",
     "text": [
      "Bean my other cat\n"
     ]
    }
   ],
   "source": [
    "popped_guests = guests.pop()\n",
    "print(popped_guests)"
   ]
  },
  {
   "cell_type": "code",
   "execution_count": 108,
   "id": "518a8af4",
   "metadata": {},
   "outputs": [
    {
     "name": "stdout",
     "output_type": "stream",
     "text": [
      "Dear Bean my other cat I am sorry to inform you that you have been uninvited to dinner.\n"
     ]
    }
   ],
   "source": [
    "print('Dear' + ' ' + popped_guests + ' ' + 'I am sorry to inform you that you have been uninvited to dinner' + '.')"
   ]
  },
  {
   "cell_type": "code",
   "execution_count": 107,
   "id": "0def13ac",
   "metadata": {},
   "outputs": [
    {
     "name": "stdout",
     "output_type": "stream",
     "text": [
      "['Peppa Pig', 'Mom', 'Dad', 'Hannah Montana', 'Taco my cat']\n"
     ]
    }
   ],
   "source": [
    "print(guests)"
   ]
  },
  {
   "cell_type": "code",
   "execution_count": 109,
   "id": "3778a779",
   "metadata": {},
   "outputs": [
    {
     "name": "stdout",
     "output_type": "stream",
     "text": [
      "Taco my cat\n"
     ]
    }
   ],
   "source": [
    "popped_guests = guests.pop()\n",
    "print(popped_guests)"
   ]
  },
  {
   "cell_type": "code",
   "execution_count": 110,
   "id": "2fd88325",
   "metadata": {},
   "outputs": [
    {
     "name": "stdout",
     "output_type": "stream",
     "text": [
      "Dear Taco my cat I am sorry to inform you that you have been uninvited to dinner.\n"
     ]
    }
   ],
   "source": [
    "print('Dear' + ' ' + popped_guests + ' ' + 'I am sorry to inform you that you have been uninvited to dinner' + '.')"
   ]
  },
  {
   "cell_type": "code",
   "execution_count": 111,
   "id": "61c66e65",
   "metadata": {},
   "outputs": [
    {
     "name": "stdout",
     "output_type": "stream",
     "text": [
      "Hannah Montana\n"
     ]
    }
   ],
   "source": [
    "popped_guests = guests.pop()\n",
    "print(popped_guests)"
   ]
  },
  {
   "cell_type": "code",
   "execution_count": 112,
   "id": "8c9cd53d",
   "metadata": {},
   "outputs": [
    {
     "name": "stdout",
     "output_type": "stream",
     "text": [
      "Dear Hannah Montana I am sorry to inform you that you have been uninvited to dinner.\n"
     ]
    }
   ],
   "source": [
    "print('Dear' + ' ' + popped_guests + ' ' + 'I am sorry to inform you that you have been uninvited to dinner' + '.')"
   ]
  },
  {
   "cell_type": "code",
   "execution_count": 113,
   "id": "ca1c4f80",
   "metadata": {},
   "outputs": [
    {
     "name": "stdout",
     "output_type": "stream",
     "text": [
      "Dad\n"
     ]
    }
   ],
   "source": [
    "popped_guests = guests.pop()\n",
    "print(popped_guests)"
   ]
  },
  {
   "cell_type": "code",
   "execution_count": 114,
   "id": "8f0ef12a",
   "metadata": {},
   "outputs": [
    {
     "name": "stdout",
     "output_type": "stream",
     "text": [
      "Dear Dad I am sorry to inform you that you have been uninvited to dinner.\n"
     ]
    }
   ],
   "source": [
    "print('Dear' + ' ' + popped_guests + ' ' + 'I am sorry to inform you that you have been uninvited to dinner' + '.')"
   ]
  },
  {
   "cell_type": "code",
   "execution_count": 117,
   "id": "701071a9",
   "metadata": {},
   "outputs": [
    {
     "name": "stdout",
     "output_type": "stream",
     "text": [
      "Dear Peppa Pig and Mom I am excited to anounce that you are still invited to dinner!\n"
     ]
    }
   ],
   "source": [
    "print('Dear' + ' ' + guests[0] + ' ' + 'and' + ' ' + guests[1] + ' ' + 'I am excited to anounce that you are still invited to dinner!')"
   ]
  },
  {
   "cell_type": "code",
   "execution_count": 118,
   "id": "6fdde5c9",
   "metadata": {},
   "outputs": [
    {
     "name": "stdout",
     "output_type": "stream",
     "text": [
      "['Mom']\n"
     ]
    }
   ],
   "source": [
    "del guests[0]\n",
    "print(guests)"
   ]
  },
  {
   "cell_type": "code",
   "execution_count": 119,
   "id": "96bde12f",
   "metadata": {},
   "outputs": [
    {
     "name": "stdout",
     "output_type": "stream",
     "text": [
      "[]\n"
     ]
    }
   ],
   "source": [
    "del guests [0]\n",
    "print(guests)"
   ]
  },
  {
   "cell_type": "markdown",
   "id": "a39b7c74",
   "metadata": {},
   "source": [
    "# 3-8"
   ]
  },
  {
   "cell_type": "code",
   "execution_count": 121,
   "id": "1802b995",
   "metadata": {},
   "outputs": [],
   "source": [
    "places = ['Bora Bora', 'Paris', 'Bali', 'Amalfi Coast', 'NYC']"
   ]
  },
  {
   "cell_type": "code",
   "execution_count": 122,
   "id": "7bd2b175",
   "metadata": {},
   "outputs": [
    {
     "name": "stdout",
     "output_type": "stream",
     "text": [
      "['Bora Bora', 'Paris', 'Bali', 'Amalfi Coast', 'NYC']\n"
     ]
    }
   ],
   "source": [
    "print(places)"
   ]
  },
  {
   "cell_type": "code",
   "execution_count": 123,
   "id": "b300e676",
   "metadata": {},
   "outputs": [
    {
     "name": "stdout",
     "output_type": "stream",
     "text": [
      "['Amalfi Coast', 'Bali', 'Bora Bora', 'NYC', 'Paris']\n"
     ]
    }
   ],
   "source": [
    "print(sorted(places))"
   ]
  },
  {
   "cell_type": "code",
   "execution_count": 124,
   "id": "ff83d6c2",
   "metadata": {},
   "outputs": [
    {
     "name": "stdout",
     "output_type": "stream",
     "text": [
      "['Bora Bora', 'Paris', 'Bali', 'Amalfi Coast', 'NYC']\n"
     ]
    }
   ],
   "source": [
    "print(places)"
   ]
  },
  {
   "cell_type": "code",
   "execution_count": 126,
   "id": "195ee8ba",
   "metadata": {},
   "outputs": [],
   "source": [
    "places.reverse()"
   ]
  },
  {
   "cell_type": "code",
   "execution_count": 127,
   "id": "39a53176",
   "metadata": {},
   "outputs": [
    {
     "name": "stdout",
     "output_type": "stream",
     "text": [
      "['NYC', 'Amalfi Coast', 'Bali', 'Paris', 'Bora Bora']\n"
     ]
    }
   ],
   "source": [
    "print(places)"
   ]
  },
  {
   "cell_type": "code",
   "execution_count": 128,
   "id": "b38f2904",
   "metadata": {},
   "outputs": [
    {
     "name": "stdout",
     "output_type": "stream",
     "text": [
      "['Bora Bora', 'Paris', 'Bali', 'Amalfi Coast', 'NYC']\n"
     ]
    }
   ],
   "source": [
    "places.reverse()\n",
    "print(places)"
   ]
  },
  {
   "cell_type": "code",
   "execution_count": 129,
   "id": "a92e8bca",
   "metadata": {},
   "outputs": [
    {
     "name": "stdout",
     "output_type": "stream",
     "text": [
      "['Amalfi Coast', 'Bali', 'Bora Bora', 'NYC', 'Paris']\n"
     ]
    }
   ],
   "source": [
    "places.sort()\n",
    "print(places)"
   ]
  },
  {
   "cell_type": "code",
   "execution_count": 130,
   "id": "c8f5acff",
   "metadata": {},
   "outputs": [
    {
     "name": "stdout",
     "output_type": "stream",
     "text": [
      "['Paris', 'NYC', 'Bora Bora', 'Bali', 'Amalfi Coast']\n"
     ]
    }
   ],
   "source": [
    "places.reverse()\n",
    "print(places)"
   ]
  },
  {
   "cell_type": "markdown",
   "id": "9a24b3f1",
   "metadata": {},
   "source": [
    "# 3-9"
   ]
  },
  {
   "cell_type": "code",
   "execution_count": 131,
   "id": "dc3ea3eb",
   "metadata": {},
   "outputs": [
    {
     "name": "stdout",
     "output_type": "stream",
     "text": [
      "['Peppa Pig', 'Mom', 'Dad', 'Hannah Montana', 'Taco my cat', 'Bean my other cat']\n"
     ]
    }
   ],
   "source": [
    "guests = ['Peppa Pig', 'Mom', 'Dad', 'Hannah Montana', 'Taco my cat', 'Bean my other cat']\n",
    "print(guests)"
   ]
  },
  {
   "cell_type": "code",
   "execution_count": 132,
   "id": "a07697e8",
   "metadata": {},
   "outputs": [
    {
     "data": {
      "text/plain": [
       "6"
      ]
     },
     "execution_count": 132,
     "metadata": {},
     "output_type": "execute_result"
    }
   ],
   "source": [
    "len(guests)"
   ]
  },
  {
   "cell_type": "code",
   "execution_count": 136,
   "id": "c12a1e45",
   "metadata": {},
   "outputs": [
    {
     "name": "stdout",
     "output_type": "stream",
     "text": [
      "Tonight, I will be inviting 6 guests to my dinner party.\n"
     ]
    }
   ],
   "source": [
    "print('Tonight, I will be inviting' + ' ' + str(len(guests)) + ' ' + 'guests to my dinner party' + '.' )"
   ]
  },
  {
   "cell_type": "markdown",
   "id": "a326a6e6",
   "metadata": {},
   "source": [
    "# 3-10"
   ]
  },
  {
   "cell_type": "code",
   "execution_count": 157,
   "id": "01d996c8",
   "metadata": {},
   "outputs": [
    {
     "name": "stdout",
     "output_type": "stream",
     "text": [
      "['heart', 'circle', 'square', 'triangle', 'diamond']\n",
      "circle\n",
      "['heart', 'circle', 'rectangle', 'triangle', 'diamond']\n",
      "['heart', 'circle', 'rectangle', 'triangle', 'diamond', 'oval']\n",
      "['rhombus', 'heart', 'circle', 'rectangle', 'triangle', 'diamond', 'oval']\n",
      "['rhombus', 'heart', 'circle', 'triangle', 'diamond', 'oval']\n",
      "['rhombus', 'heart', 'circle', 'triangle', 'diamond']\n",
      "['rhombus', 'heart', 'circle', 'diamond']\n",
      "['rhombus', 'heart', 'diamond']\n",
      "\n",
      "A rhombus is a weird shape.\n",
      "['rectangle', 'heart', 'diamond']\n",
      "['diamond', 'heart', 'rectangle']\n",
      "['rectangle', 'heart', 'diamond']\n",
      "\n",
      "Here is the original list:\n",
      "['rectangle', 'heart', 'diamond']\n",
      "Here is the sorted list:\n",
      "['diamond', 'heart', 'rectangle']\n",
      "Here is the original list again:\n",
      "['rectangle', 'heart', 'diamond']\n",
      "['diamond', 'heart', 'rectangle']\n"
     ]
    },
    {
     "data": {
      "text/plain": [
       "3"
      ]
     },
     "execution_count": 157,
     "metadata": {},
     "output_type": "execute_result"
    }
   ],
   "source": [
    "shapes = ['heart', 'circle', 'square', 'triangle', 'diamond']\n",
    "print(shapes)\n",
    "print(shapes[1])\n",
    "shapes[2] = 'rectangle'\n",
    "print(shapes)\n",
    "shapes.append('oval')\n",
    "print(shapes)\n",
    "shapes.insert(0, 'rhombus')\n",
    "print(shapes)\n",
    "del shapes[3]\n",
    "print(shapes)\n",
    "shapes.pop()\n",
    "print(shapes)\n",
    "shapes.pop(3)\n",
    "print(shapes)\n",
    "shapes.remove('circle')\n",
    "print(shapes)\n",
    "lame = 'rhombus'\n",
    "shapes.remove(lame)\n",
    "print('\\nA ' + lame + \" is a weird shape.\")\n",
    "shapes.insert(0, 'rectangle')\n",
    "print(shapes)\n",
    "shapes.sort()\n",
    "print(shapes)\n",
    "shapes.sort(reverse=True)\n",
    "print(shapes)\n",
    "shapes = ['rectangle', 'heart', 'diamond']\n",
    "print('\\nHere is the original list:')\n",
    "print(shapes)\n",
    "print('Here is the sorted list:')\n",
    "print(sorted(shapes))\n",
    "print('Here is the original list again:')\n",
    "print(shapes)\n",
    "shapes.reverse()\n",
    "print(shapes)\n",
    "len(shapes)"
   ]
  },
  {
   "cell_type": "markdown",
   "id": "2d2f1d5b",
   "metadata": {},
   "source": [
    "# 3-11"
   ]
  },
  {
   "cell_type": "code",
   "execution_count": 158,
   "id": "5c99c14b",
   "metadata": {},
   "outputs": [
    {
     "ename": "IndexError",
     "evalue": "list index out of range",
     "output_type": "error",
     "traceback": [
      "\u001b[0;31m---------------------------------------------------------------------------\u001b[0m",
      "\u001b[0;31mIndexError\u001b[0m                                Traceback (most recent call last)",
      "Cell \u001b[0;32mIn[158], line 1\u001b[0m\n\u001b[0;32m----> 1\u001b[0m \u001b[38;5;28mprint\u001b[39m(shapes[\u001b[38;5;241m3\u001b[39m])\n",
      "\u001b[0;31mIndexError\u001b[0m: list index out of range"
     ]
    }
   ],
   "source": [
    "print(shapes[3])"
   ]
  },
  {
   "cell_type": "code",
   "execution_count": 159,
   "id": "75171ef5",
   "metadata": {},
   "outputs": [
    {
     "name": "stdout",
     "output_type": "stream",
     "text": [
      "rectangle\n"
     ]
    }
   ],
   "source": [
    "print(shapes[2])"
   ]
  },
  {
   "cell_type": "code",
   "execution_count": null,
   "id": "470c9b66",
   "metadata": {},
   "outputs": [],
   "source": []
  }
 ],
 "metadata": {
  "kernelspec": {
   "display_name": "Python 3 (ipykernel)",
   "language": "python",
   "name": "python3"
  },
  "language_info": {
   "codemirror_mode": {
    "name": "ipython",
    "version": 3
   },
   "file_extension": ".py",
   "mimetype": "text/x-python",
   "name": "python",
   "nbconvert_exporter": "python",
   "pygments_lexer": "ipython3",
   "version": "3.11.4"
  }
 },
 "nbformat": 4,
 "nbformat_minor": 5
}
