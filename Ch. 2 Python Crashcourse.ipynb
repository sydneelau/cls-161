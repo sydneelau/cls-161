{
 "cells": [
  {
   "cell_type": "markdown",
   "id": "f6239857",
   "metadata": {},
   "source": [
    "## 2-1"
   ]
  },
  {
   "cell_type": "code",
   "execution_count": 2,
   "id": "0b9e7b88",
   "metadata": {},
   "outputs": [
    {
     "name": "stdout",
     "output_type": "stream",
     "text": [
      "I am so hungry\n"
     ]
    }
   ],
   "source": [
    "message = \"I am so hungry\"\n",
    "print(message)"
   ]
  },
  {
   "cell_type": "markdown",
   "id": "2f75bb2f",
   "metadata": {},
   "source": [
    "## 2-2"
   ]
  },
  {
   "cell_type": "code",
   "execution_count": 2,
   "id": "092bfc75",
   "metadata": {},
   "outputs": [
    {
     "name": "stdout",
     "output_type": "stream",
     "text": [
      "I am so hungry\n"
     ]
    }
   ],
   "source": [
    "message = \"I am so hungry\"\n",
    "print(message)"
   ]
  },
  {
   "cell_type": "code",
   "execution_count": 3,
   "id": "1c88f8ce",
   "metadata": {},
   "outputs": [
    {
     "name": "stdout",
     "output_type": "stream",
     "text": [
      "I am eating a snack\n"
     ]
    }
   ],
   "source": [
    "message = \"I am eating a snack\"\n",
    "print(message)"
   ]
  },
  {
   "cell_type": "markdown",
   "id": "e617dafc",
   "metadata": {},
   "source": [
    "# 2-3"
   ]
  },
  {
   "cell_type": "code",
   "execution_count": 12,
   "id": "1a31c4ff",
   "metadata": {},
   "outputs": [
    {
     "name": "stdout",
     "output_type": "stream",
     "text": [
      "Hello Virginia how are you?\n"
     ]
    }
   ],
   "source": [
    "person_name = \"Virginia\"\n",
    "print(\"Hello\" + \" \" + person_name + \" \" + \"how are you?\")"
   ]
  },
  {
   "cell_type": "markdown",
   "id": "0e13e81c",
   "metadata": {},
   "source": [
    "# 2-4"
   ]
  },
  {
   "cell_type": "code",
   "execution_count": 13,
   "id": "02719803",
   "metadata": {},
   "outputs": [
    {
     "name": "stdout",
     "output_type": "stream",
     "text": [
      "virginia young\n"
     ]
    }
   ],
   "source": [
    "person_name = \"Virginia Young\"\n",
    "print(person_name.lower())"
   ]
  },
  {
   "cell_type": "code",
   "execution_count": 14,
   "id": "c7061fb5",
   "metadata": {},
   "outputs": [
    {
     "name": "stdout",
     "output_type": "stream",
     "text": [
      "VIRGINIA YOUNG\n"
     ]
    }
   ],
   "source": [
    "print(person_name.upper())"
   ]
  },
  {
   "cell_type": "code",
   "execution_count": 15,
   "id": "e20f3470",
   "metadata": {},
   "outputs": [
    {
     "name": "stdout",
     "output_type": "stream",
     "text": [
      "Virginia Young\n"
     ]
    }
   ],
   "source": [
    "print(person_name.title())"
   ]
  },
  {
   "cell_type": "markdown",
   "id": "4750e704",
   "metadata": {},
   "source": [
    "# 2-5"
   ]
  },
  {
   "cell_type": "code",
   "execution_count": 16,
   "id": "22515cc9",
   "metadata": {},
   "outputs": [
    {
     "name": "stdout",
     "output_type": "stream",
     "text": [
      "Michelle Obama once said, \"When they go low, we go high.\"\n"
     ]
    }
   ],
   "source": [
    "quote = 'Michelle Obama once said, \"When they go low, we go high.\"'\n",
    "print(quote)"
   ]
  },
  {
   "cell_type": "markdown",
   "id": "8b9c83da",
   "metadata": {},
   "source": [
    "# 2-6"
   ]
  },
  {
   "cell_type": "code",
   "execution_count": 18,
   "id": "ffe7e26a",
   "metadata": {},
   "outputs": [],
   "source": [
    "famous_person = \"Michelle Obama\""
   ]
  },
  {
   "cell_type": "code",
   "execution_count": 19,
   "id": "38c14acc",
   "metadata": {},
   "outputs": [],
   "source": [
    "message = '\"When they go low, we go high.\"'"
   ]
  },
  {
   "cell_type": "code",
   "execution_count": 21,
   "id": "cbc08e33",
   "metadata": {},
   "outputs": [
    {
     "name": "stdout",
     "output_type": "stream",
     "text": [
      "Michelle Obama once said,\"When they go low, we go high.\"\n"
     ]
    }
   ],
   "source": [
    "print(famous_person + \" \" + \"once said\" + \",\" + message)"
   ]
  },
  {
   "cell_type": "markdown",
   "id": "917fa372",
   "metadata": {},
   "source": [
    "# 2-7"
   ]
  },
  {
   "cell_type": "code",
   "execution_count": 22,
   "id": "ae05df41",
   "metadata": {},
   "outputs": [],
   "source": [
    "name = \" Virginia \""
   ]
  },
  {
   "cell_type": "code",
   "execution_count": 23,
   "id": "8fcfcf09",
   "metadata": {},
   "outputs": [
    {
     "name": "stdout",
     "output_type": "stream",
     "text": [
      " Virginia \n"
     ]
    }
   ],
   "source": [
    "print(name)"
   ]
  },
  {
   "cell_type": "code",
   "execution_count": 24,
   "id": "a8345a86",
   "metadata": {},
   "outputs": [
    {
     "name": "stdout",
     "output_type": "stream",
     "text": [
      "Virginia \n"
     ]
    }
   ],
   "source": [
    "print(name.lstrip())"
   ]
  },
  {
   "cell_type": "code",
   "execution_count": 25,
   "id": "04608209",
   "metadata": {},
   "outputs": [
    {
     "name": "stdout",
     "output_type": "stream",
     "text": [
      " Virginia\n"
     ]
    }
   ],
   "source": [
    "print(name.rstrip())"
   ]
  },
  {
   "cell_type": "code",
   "execution_count": 26,
   "id": "f28139b4",
   "metadata": {},
   "outputs": [
    {
     "name": "stdout",
     "output_type": "stream",
     "text": [
      "Virginia\n"
     ]
    }
   ],
   "source": [
    "print(name.strip())"
   ]
  },
  {
   "cell_type": "markdown",
   "id": "b8a3fd3b",
   "metadata": {},
   "source": [
    "# 2-8"
   ]
  },
  {
   "cell_type": "code",
   "execution_count": 27,
   "id": "bdf3087a",
   "metadata": {},
   "outputs": [
    {
     "name": "stdout",
     "output_type": "stream",
     "text": [
      "8\n"
     ]
    }
   ],
   "source": [
    "print(5+3)"
   ]
  },
  {
   "cell_type": "code",
   "execution_count": 28,
   "id": "7b5734fa",
   "metadata": {},
   "outputs": [
    {
     "name": "stdout",
     "output_type": "stream",
     "text": [
      "8\n"
     ]
    }
   ],
   "source": [
    "print(11-3)"
   ]
  },
  {
   "cell_type": "code",
   "execution_count": 29,
   "id": "102e682b",
   "metadata": {},
   "outputs": [
    {
     "name": "stdout",
     "output_type": "stream",
     "text": [
      "8\n"
     ]
    }
   ],
   "source": [
    "print(4*2)"
   ]
  },
  {
   "cell_type": "code",
   "execution_count": 30,
   "id": "58aa06b4",
   "metadata": {},
   "outputs": [
    {
     "name": "stdout",
     "output_type": "stream",
     "text": [
      "8.0\n"
     ]
    }
   ],
   "source": [
    "print(16/2)"
   ]
  },
  {
   "cell_type": "markdown",
   "id": "c05449b9",
   "metadata": {},
   "source": [
    "# 2-9"
   ]
  },
  {
   "cell_type": "code",
   "execution_count": 31,
   "id": "67672896",
   "metadata": {},
   "outputs": [],
   "source": [
    "fav_number = 20"
   ]
  },
  {
   "cell_type": "code",
   "execution_count": 34,
   "id": "e5e4919a",
   "metadata": {},
   "outputs": [
    {
     "name": "stdout",
     "output_type": "stream",
     "text": [
      "My favorite number is 20.\n"
     ]
    }
   ],
   "source": [
    "print(\"My favorite number is\" + \" \" + str(fav_number) + \".\")"
   ]
  },
  {
   "cell_type": "markdown",
   "id": "b9cb1ca2",
   "metadata": {},
   "source": [
    "# 2-10"
   ]
  },
  {
   "cell_type": "code",
   "execution_count": 36,
   "id": "580728e2",
   "metadata": {},
   "outputs": [
    {
     "name": "stdout",
     "output_type": "stream",
     "text": [
      "Michelle Obama once said, \"When they go low, we go high.\"\n"
     ]
    }
   ],
   "source": [
    "# say a quote from Michelle Obama\n",
    "print(quote)"
   ]
  },
  {
   "cell_type": "code",
   "execution_count": 37,
   "id": "01ed117c",
   "metadata": {},
   "outputs": [
    {
     "name": "stdout",
     "output_type": "stream",
     "text": [
      "20\n"
     ]
    }
   ],
   "source": [
    "# say my favorite number\n",
    "print(fav_number)"
   ]
  },
  {
   "cell_type": "code",
   "execution_count": 38,
   "id": "ddebfbba",
   "metadata": {},
   "outputs": [
    {
     "name": "stdout",
     "output_type": "stream",
     "text": [
      "The Zen of Python, by Tim Peters\n",
      "\n",
      "Beautiful is better than ugly.\n",
      "Explicit is better than implicit.\n",
      "Simple is better than complex.\n",
      "Complex is better than complicated.\n",
      "Flat is better than nested.\n",
      "Sparse is better than dense.\n",
      "Readability counts.\n",
      "Special cases aren't special enough to break the rules.\n",
      "Although practicality beats purity.\n",
      "Errors should never pass silently.\n",
      "Unless explicitly silenced.\n",
      "In the face of ambiguity, refuse the temptation to guess.\n",
      "There should be one-- and preferably only one --obvious way to do it.\n",
      "Although that way may not be obvious at first unless you're Dutch.\n",
      "Now is better than never.\n",
      "Although never is often better than *right* now.\n",
      "If the implementation is hard to explain, it's a bad idea.\n",
      "If the implementation is easy to explain, it may be a good idea.\n",
      "Namespaces are one honking great idea -- let's do more of those!\n"
     ]
    }
   ],
   "source": [
    "import this"
   ]
  },
  {
   "cell_type": "code",
   "execution_count": null,
   "id": "fb11722a",
   "metadata": {},
   "outputs": [],
   "source": []
  }
 ],
 "metadata": {
  "kernelspec": {
   "display_name": "Python 3 (ipykernel)",
   "language": "python",
   "name": "python3"
  },
  "language_info": {
   "codemirror_mode": {
    "name": "ipython",
    "version": 3
   },
   "file_extension": ".py",
   "mimetype": "text/x-python",
   "name": "python",
   "nbconvert_exporter": "python",
   "pygments_lexer": "ipython3",
   "version": "3.11.4"
  }
 },
 "nbformat": 4,
 "nbformat_minor": 5
}
