{
 "cells": [
  {
   "cell_type": "markdown",
   "id": "6c2bdefb",
   "metadata": {},
   "source": [
    "# 5-1"
   ]
  },
  {
   "cell_type": "code",
   "execution_count": 5,
   "id": "c3ab0b2d",
   "metadata": {},
   "outputs": [
    {
     "name": "stdout",
     "output_type": "stream",
     "text": [
      "Is animal == 'cat'? I predict True\n",
      "True\n",
      "\n",
      "Is animal == 'rabbit'? I predict False\n",
      "False\n"
     ]
    }
   ],
   "source": [
    "animal = 'cat'\n",
    "print(\"Is animal == 'cat'? I predict True\")\n",
    "print(animal == 'cat')\n",
    "print(\"\\nIs animal == 'rabbit'? I predict False\")\n",
    "print(animal == 'rabbit')"
   ]
  },
  {
   "cell_type": "code",
   "execution_count": 8,
   "id": "a480d3da",
   "metadata": {},
   "outputs": [
    {
     "name": "stdout",
     "output_type": "stream",
     "text": [
      "Does color == 'pink'? I predict False\n",
      "False\n",
      "\n",
      "Does color == 'blue'? I predict True\n",
      "True\n"
     ]
    }
   ],
   "source": [
    "color = 'blue'\n",
    "print(\"Does color == 'pink'? I predict False\")\n",
    "print(color == 'pink')\n",
    "print(\"\\nDoes color == 'blue'? I predict True\")\n",
    "print(color == 'blue')"
   ]
  },
  {
   "cell_type": "code",
   "execution_count": 10,
   "id": "34c65b36",
   "metadata": {},
   "outputs": [
    {
     "name": "stdout",
     "output_type": "stream",
     "text": [
      "Is food == 'delicious'? I predict True.\n",
      "True\n",
      "\n",
      "Is food == 'gross'? I predict False.\n",
      "False\n"
     ]
    }
   ],
   "source": [
    "food = 'delicious'\n",
    "print(\"Is food == 'delicious'? I predict True.\")\n",
    "print(food == 'delicious')\n",
    "print(\"\\nIs food == 'gross'? I predict False.\")\n",
    "print(food == 'gross')"
   ]
  },
  {
   "cell_type": "code",
   "execution_count": 12,
   "id": "a84b9098",
   "metadata": {},
   "outputs": [
    {
     "name": "stdout",
     "output_type": "stream",
     "text": [
      "Is weather == 'hot'? I predict False\n",
      "False\n",
      "\n",
      "Is weather == 'cold'? I predict True\n",
      "True\n"
     ]
    }
   ],
   "source": [
    "weather = 'cold'\n",
    "print(\"Is weather == 'hot'? I predict False\")\n",
    "print(weather == 'hot')\n",
    "print(\"\\nIs weather == 'cold'? I predict True\")\n",
    "print(weather == 'cold')"
   ]
  },
  {
   "cell_type": "code",
   "execution_count": 14,
   "id": "f1d2b59e",
   "metadata": {},
   "outputs": [
    {
     "name": "stdout",
     "output_type": "stream",
     "text": [
      "Is homework == 'done'? I predict False\n",
      "False\n",
      "\n",
      "Is homework == 'undone'? I predict True\n",
      "True\n"
     ]
    }
   ],
   "source": [
    "homework = 'undone'\n",
    "print(\"Is homework == 'done'? I predict False\")\n",
    "print(homework == 'done')\n",
    "print(\"\\nIs homework == 'undone'? I predict True\")\n",
    "print(homework == 'undone')"
   ]
  },
  {
   "cell_type": "markdown",
   "id": "8746ce4b",
   "metadata": {},
   "source": [
    "# 5-2"
   ]
  },
  {
   "cell_type": "code",
   "execution_count": 16,
   "id": "bf47d0e3",
   "metadata": {},
   "outputs": [
    {
     "data": {
      "text/plain": [
       "True"
      ]
     },
     "execution_count": 16,
     "metadata": {},
     "output_type": "execute_result"
    }
   ],
   "source": [
    "number_of_chairs = 3\n",
    "number_of_chairs >= 1"
   ]
  },
  {
   "cell_type": "code",
   "execution_count": 17,
   "id": "7d8f8f39",
   "metadata": {},
   "outputs": [
    {
     "data": {
      "text/plain": [
       "False"
      ]
     },
     "execution_count": 17,
     "metadata": {},
     "output_type": "execute_result"
    }
   ],
   "source": [
    "number_of_chairs <= 2"
   ]
  },
  {
   "cell_type": "code",
   "execution_count": 20,
   "id": "485566fd",
   "metadata": {},
   "outputs": [
    {
     "data": {
      "text/plain": [
       "True"
      ]
     },
     "execution_count": 20,
     "metadata": {},
     "output_type": "execute_result"
    }
   ],
   "source": [
    "name = 'Kaitlyn'\n",
    "name.lower() == 'kaitlyn'"
   ]
  },
  {
   "cell_type": "code",
   "execution_count": 21,
   "id": "f5482e56",
   "metadata": {},
   "outputs": [
    {
     "name": "stdout",
     "output_type": "stream",
     "text": [
      "hello world\n"
     ]
    }
   ],
   "source": [
    "print('hello world')"
   ]
  },
  {
   "cell_type": "code",
   "execution_count": 23,
   "id": "a0beeb24",
   "metadata": {},
   "outputs": [],
   "source": [
    "number = 24"
   ]
  },
  {
   "cell_type": "code",
   "execution_count": 24,
   "id": "cdcd05bd",
   "metadata": {},
   "outputs": [
    {
     "data": {
      "text/plain": [
       "False"
      ]
     },
     "execution_count": 24,
     "metadata": {},
     "output_type": "execute_result"
    }
   ],
   "source": [
    "number == 21"
   ]
  },
  {
   "cell_type": "code",
   "execution_count": 25,
   "id": "00fe5dcf",
   "metadata": {},
   "outputs": [
    {
     "data": {
      "text/plain": [
       "True"
      ]
     },
     "execution_count": 25,
     "metadata": {},
     "output_type": "execute_result"
    }
   ],
   "source": [
    "number != 21"
   ]
  },
  {
   "cell_type": "code",
   "execution_count": 26,
   "id": "f12d8978",
   "metadata": {},
   "outputs": [
    {
     "data": {
      "text/plain": [
       "False"
      ]
     },
     "execution_count": 26,
     "metadata": {},
     "output_type": "execute_result"
    }
   ],
   "source": [
    "number > 90"
   ]
  },
  {
   "cell_type": "code",
   "execution_count": 27,
   "id": "a88c9844",
   "metadata": {},
   "outputs": [
    {
     "data": {
      "text/plain": [
       "True"
      ]
     },
     "execution_count": 27,
     "metadata": {},
     "output_type": "execute_result"
    }
   ],
   "source": [
    "number < 25"
   ]
  },
  {
   "cell_type": "code",
   "execution_count": 28,
   "id": "04f22ff1",
   "metadata": {},
   "outputs": [
    {
     "data": {
      "text/plain": [
       "True"
      ]
     },
     "execution_count": 28,
     "metadata": {},
     "output_type": "execute_result"
    }
   ],
   "source": [
    "number >= 12"
   ]
  },
  {
   "cell_type": "code",
   "execution_count": 29,
   "id": "1becdc18",
   "metadata": {},
   "outputs": [
    {
     "data": {
      "text/plain": [
       "True"
      ]
     },
     "execution_count": 29,
     "metadata": {},
     "output_type": "execute_result"
    }
   ],
   "source": [
    "number <= 24"
   ]
  },
  {
   "cell_type": "code",
   "execution_count": 30,
   "id": "ff2c82e6",
   "metadata": {},
   "outputs": [
    {
     "data": {
      "text/plain": [
       "False"
      ]
     },
     "execution_count": 30,
     "metadata": {},
     "output_type": "execute_result"
    }
   ],
   "source": [
    "number == 24 and number >50"
   ]
  },
  {
   "cell_type": "code",
   "execution_count": 31,
   "id": "17f5fb5c",
   "metadata": {},
   "outputs": [
    {
     "data": {
      "text/plain": [
       "True"
      ]
     },
     "execution_count": 31,
     "metadata": {},
     "output_type": "execute_result"
    }
   ],
   "source": [
    "number == 24 or number >50"
   ]
  },
  {
   "cell_type": "code",
   "execution_count": 32,
   "id": "c598559e",
   "metadata": {},
   "outputs": [
    {
     "data": {
      "text/plain": [
       "True"
      ]
     },
     "execution_count": 32,
     "metadata": {},
     "output_type": "execute_result"
    }
   ],
   "source": [
    "colors = 'red', 'blue', 'yellow', \n",
    "'red' in colors"
   ]
  },
  {
   "cell_type": "code",
   "execution_count": 33,
   "id": "fcf912cf",
   "metadata": {},
   "outputs": [
    {
     "data": {
      "text/plain": [
       "False"
      ]
     },
     "execution_count": 33,
     "metadata": {},
     "output_type": "execute_result"
    }
   ],
   "source": [
    "'green' in colors"
   ]
  },
  {
   "cell_type": "markdown",
   "id": "78063512",
   "metadata": {},
   "source": [
    "# 5-6"
   ]
  },
  {
   "cell_type": "code",
   "execution_count": 13,
   "id": "a8fc9e1b",
   "metadata": {},
   "outputs": [
    {
     "name": "stdout",
     "output_type": "stream",
     "text": [
      "The person is an adult\n"
     ]
    }
   ],
   "source": [
    "age = 20\n",
    "if age < 2:\n",
    "    print('The person is a baby')\n",
    "elif age < 4:\n",
    "    print('The person is a toddler')\n",
    "elif age < 13:\n",
    "    print('The person is a kid')\n",
    "elif age < 20:\n",
    "    print('The person is a teenager')\n",
    "elif age < 65:\n",
    "    print('The person is an adult')\n",
    "else:\n",
    "    print('The person is an elder')"
   ]
  },
  {
   "cell_type": "markdown",
   "id": "97e5fbf6",
   "metadata": {},
   "source": [
    "# 5-7"
   ]
  },
  {
   "cell_type": "code",
   "execution_count": 15,
   "id": "6093a60f",
   "metadata": {},
   "outputs": [
    {
     "name": "stdout",
     "output_type": "stream",
     "text": [
      "I love peaches\n",
      "I love watermelons\n",
      "I love grapes\n"
     ]
    }
   ],
   "source": [
    "favorite_fruits = 'peach', 'watermelon', 'grape'\n",
    "if 'apple' in favorite_fruits:\n",
    "    print('I love apples')\n",
    "if 'peach' in favorite_fruits:\n",
    "    print('I love peaches')\n",
    "if 'banana' in favorite_fruits:\n",
    "    print('Ilove bananas')\n",
    "if 'watermelon' in favorite_fruits:\n",
    "    print('I love watermelons')\n",
    "if 'grape' in favorite_fruits:\n",
    "    print('I love grapes')"
   ]
  },
  {
   "cell_type": "markdown",
   "id": "004864da",
   "metadata": {},
   "source": [
    "# 5-8"
   ]
  },
  {
   "cell_type": "code",
   "execution_count": 19,
   "id": "d2ec9773",
   "metadata": {},
   "outputs": [
    {
     "name": "stdout",
     "output_type": "stream",
     "text": [
      "Hello admin, would you like to see a status report?\n",
      "Hello Sydnee, thank you for logging in again.\n",
      "Hello Mark, thank you for logging in again.\n",
      "Hello Angela, thank you for logging in again.\n",
      "Hello Troy, thank you for logging in again.\n"
     ]
    }
   ],
   "source": [
    "usernames = ['admin', 'Sydnee', 'Mark', 'Angela', 'Troy']\n",
    "for username in usernames: \n",
    "    if username == 'admin':\n",
    "        print('Hello admin, would you like to see a status report?')\n",
    "    else:\n",
    "        print(f'Hello {username}, thank you for logging in again.')"
   ]
  },
  {
   "cell_type": "markdown",
   "id": "808b5b90",
   "metadata": {},
   "source": [
    "# 5-9"
   ]
  },
  {
   "cell_type": "code",
   "execution_count": 23,
   "id": "5c4a37bc",
   "metadata": {},
   "outputs": [
    {
     "name": "stdout",
     "output_type": "stream",
     "text": [
      "We need to find some users!\n"
     ]
    }
   ],
   "source": [
    "usernames = []\n",
    "if usernames:\n",
    "    print(f'Hello {username}, would you like to see a status report?')\n",
    "else:\n",
    "    print('We need to find some users!') "
   ]
  },
  {
   "cell_type": "markdown",
   "id": "3f5585ce",
   "metadata": {},
   "source": [
    "# 5-10"
   ]
  },
  {
   "cell_type": "code",
   "execution_count": 42,
   "id": "7766e809",
   "metadata": {},
   "outputs": [
    {
     "name": "stdout",
     "output_type": "stream",
     "text": [
      "The username MICHAEL is unavailable, please choose a new username.\n",
      "The username sam is available\n",
      "The username Alex is available\n",
      "The username ERIKA is unavailable, please choose a new username.\n",
      "The username Sean is available\n"
     ]
    }
   ],
   "source": [
    "current_users = ['Sydnee', 'Michael', 'Sara', 'Justin', 'Erika']\n",
    "new_users = ['MICHAEL', 'sam', 'Alex', 'ERIKA', 'Sean']\n",
    "\n",
    "current_users_lower = [user.lower() for user in current_users]\n",
    "\n",
    "for new_user in new_users:\n",
    "    if new_user.lower() in current_users_lower:\n",
    "        print(f'The username {new_user} is unavailable, please choose a new username.')\n",
    "    else:\n",
    "        print(f'The username {new_user} is available')"
   ]
  },
  {
   "cell_type": "code",
   "execution_count": null,
   "id": "21f41223",
   "metadata": {},
   "outputs": [],
   "source": []
  }
 ],
 "metadata": {
  "kernelspec": {
   "display_name": "Python 3 (ipykernel)",
   "language": "python",
   "name": "python3"
  },
  "language_info": {
   "codemirror_mode": {
    "name": "ipython",
    "version": 3
   },
   "file_extension": ".py",
   "mimetype": "text/x-python",
   "name": "python",
   "nbconvert_exporter": "python",
   "pygments_lexer": "ipython3",
   "version": "3.11.4"
  }
 },
 "nbformat": 4,
 "nbformat_minor": 5
}
